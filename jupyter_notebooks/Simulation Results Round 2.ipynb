{
 "cells": [
  {
   "cell_type": "code",
   "execution_count": 15,
   "metadata": {},
   "outputs": [
    {
     "name": "stdout",
     "output_type": "stream",
     "text": [
      "The autoreload extension is already loaded. To reload it, use:\n",
      "  %reload_ext autoreload\n"
     ]
    }
   ],
   "source": [
    "import numpy as np\n",
    "import numpy.linalg as la\n",
    "import matplotlib.pyplot as plt\n",
    "import numpy.random as rand\n",
    "import pickle\n",
    "import NSMap as ns\n",
    "from mpl_toolkits.axes_grid1 import make_axes_locatable\n",
    "from mpl_toolkits.mplot3d import Axes3D\n",
    "from statsmodels.tsa.stattools import adfuller\n",
    "import matplotlib.gridspec as gridspec\n",
    "\n",
    "%load_ext autoreload\n",
    "%autoreload 2"
   ]
  },
  {
   "cell_type": "markdown",
   "metadata": {},
   "source": [
    "# Round 2 \n",
    "Here we assess how performance of the method is impacted by time series length, amount of observation noise, and amount of process noise for the Logistic Map and Food Chain systems."
   ]
  },
  {
   "cell_type": "markdown",
   "metadata": {},
   "source": [
    "### Process Noise Parameter Determination\n",
    "But first, we determine empirically the amount of process noise to introduce into the Logistic Map and Food Chain systems so that their variance increases by 10%. Uncomment the below code to produce a new estimate, will be very close to the value hard-coded."
   ]
  },
  {
   "cell_type": "code",
   "execution_count": 54,
   "metadata": {},
   "outputs": [],
   "source": [
    "## LOGISTIC MAP ##\n",
    "\"\"\"\n",
    "compute_logistic_variance = lambda p : np.mean(np.array([\n",
    "                            np.var(generateLogisticMapProcessNoise(\n",
    "                            process_noise = p, r=lambda t: 3.75,\n",
    "                            x0 = rand.rand(1)[0]))\n",
    "                            for _ in range(100)]))\n",
    "\n",
    "logistic_null_variance = compute_logistic_variance(0)\n",
    "\n",
    "pn = np.linspace(0,1,num=50)\n",
    "varratios = np.array([compute_logistic_variance(p) / \n",
    "                      logistic_null_variance \n",
    "                      for p in pn])\n",
    "\n",
    "logistic_process_noise = (pn[varratios > 1.1])[0]\n",
    "\"\"\""
   ]
  },
  {
   "cell_type": "code",
   "execution_count": 8,
   "metadata": {
    "scrolled": true
   },
   "outputs": [],
   "source": [
    "# FINAL VALUE \n",
    "\n",
    "logistic_process_noise = 0.26530612244897955"
   ]
  },
  {
   "cell_type": "code",
   "execution_count": 107,
   "metadata": {},
   "outputs": [],
   "source": [
    "## FOOD CHAIN ##\n",
    "\"\"\"\n",
    "compute_food_chain_variance = lambda p : np.var(\n",
    "                                [generateTimeSeriesContinuous(\n",
    "                                    'HastingsPowellP', x0 + rand.random(3) * 0.1,\n",
    "                                    nsargs=(lambda t: 3,), end=200*8,\n",
    "                                    tlen = 200, reduction = reduction,\n",
    "                                    settlingTime=settlingTime,\n",
    "                                    process_noise=p)[:,0,None]\n",
    "                                for _ in range(100)])\n",
    "\n",
    "food_chain_null_variance = compute_food_chain_variance(0)\n",
    "\n",
    "pn = np.linspace(0,0.05,num=20)\n",
    "ratios = np.array([compute_food_chain_variance(p) / \n",
    "                   food_chain_null_variance \n",
    "                   for p in pn])\n",
    "\n",
    "food_chain_process_noise = (pn[ratios > 1.1])[0]\n",
    "\"\"\""
   ]
  },
  {
   "cell_type": "code",
   "execution_count": 7,
   "metadata": {},
   "outputs": [],
   "source": [
    "# FINAL VALUE\n",
    "\n",
    "food_chain_process_noise = 0.018421052631578946"
   ]
  },
  {
   "cell_type": "markdown",
   "metadata": {},
   "source": [
    "# Process Noise Parameter Determination"
   ]
  },
  {
   "cell_type": "code",
   "execution_count": 30,
   "metadata": {},
   "outputs": [],
   "source": [
    "# General Hyperparameters\n",
    "N_replicates = 100\n",
    "reduction = 2 ** 8\n",
    "settlingTime = 200\n",
    "E_max = 5\n",
    "tau = 1"
   ]
  },
  {
   "cell_type": "code",
   "execution_count": null,
   "metadata": {
    "scrolled": true
   },
   "outputs": [],
   "source": [
    "# Time Series Length versus Nonstationarity Rate\n",
    "T_list = (50, 100, 200)\n",
    "r_list = (lambda t: 3.75, lambda t: 3.75 - 0.25 * t, lambda t: 3.75 - 0.75 * t)\n",
    "ns_status = [\"No Change\", \"Slow Change\", \"Fast Change\"]\n",
    "\n",
    "# Time Series Length, nonstationarity status, delta, theta, r_sqrd\n",
    "results = np.zeros((N_replicates * len(T_list) * len(r_list), 5))\n",
    "results_index = 0\n",
    "\n",
    "fig, ax = plt.subplots(3,3,figsize=(8,6), tight_layout=True)\n",
    "\n",
    "for ti, T in enumerate(T_list):\n",
    "    for ri, r in enumerate(r_list):\n",
    "        for i in range(N_replicates):\n",
    "            x0 = rand.rand(1)\n",
    "            Xr = ns.standardize(ns.generateLogisticMapProcessNoise(tlen = T, r = r, x0 = x0))\n",
    "\n",
    "            if i == 0:\n",
    "                ax[ti, ri].plot(np.linspace(0,1,num=T), Xr)\n",
    "                ax[ti, ri].set_xticks([])\n",
    "                ax[ti, ri].set_yticks([])\n",
    "\n",
    "            delta_agg, theta_agg, r_sqrd = ns.get_delta_agg(Xr, E_max, return_forecast_skill=True)\n",
    "\n",
    "            results[results_index] = np.array([T, ri, delta_agg, theta_agg, r_sqrd])\n",
    "            results_index += 1\n",
    "            \n",
    "np.savetxt(f\"../results/round2_results/logistic_T_vs_NS_Rate.csv\", results, fmt=\"%0.4f,%0.4f,%0.4f,%0.4f,%0.4f\")\n",
    "\n",
    "for i in range(3):\n",
    "    ax[i,0].set_ylabel(r\"Series Len = {}\".format(T_list[i]), rotation=90,\n",
    "                     fontsize=12)\n",
    "    ax[2,i].set_xlabel(r\"{}\".format(ns_status[i]), fontsize=12)\n",
    "plt.savefig(\"../PDF_figures_tables/example_series/Figure_S3.pdf\", format=\"pdf\", bbox_inches=\"tight\")"
   ]
  },
  {
   "cell_type": "code",
   "execution_count": null,
   "metadata": {},
   "outputs": [],
   "source": [
    "# Observation Noise versus Nonstationarity Rate\n",
    "T = 200\n",
    "obs_list = (0.0,0.1,0.2,0.3)\n",
    "r_list = (lambda t: 3.75, lambda t: 3.75 - 0.25 * t, lambda t: 3.75 - 0.75 * t)\n",
    "\n",
    "# observation noise, nonstationarity status, delta, theta, r_sqrd\n",
    "results = np.zeros((N_replicates * len(obs_list) * len(r_list), 5))\n",
    "results_index = 0\n",
    "\n",
    "fig, ax = plt.subplots(4,3,figsize=(8,8), tight_layout=True)\n",
    "\n",
    "for oi, o_n in enumerate(obs_list):\n",
    "    for ri, r in enumerate(r_list):\n",
    "        for i in range(N_replicates):\n",
    "            x0 = rand.rand(1)\n",
    "            Xr = ns.standardize(ns.generateLogisticMapProcessNoise(r=r, x0 = x0))\n",
    "            Xr += (rand.normal(0, o_n, T))[:,None]\n",
    "            \n",
    "            if i == 0:\n",
    "                ax[oi, ri].plot(np.linspace(0,1,num=T), Xr)\n",
    "                ax[oi, ri].set_xticks([])\n",
    "                ax[oi, ri].set_yticks([])\n",
    "            \n",
    "            delta_agg, theta_agg, r_sqrd = ns.get_delta_agg(Xr, E_max, return_forecast_skill=True)\n",
    "            \n",
    "            results[results_index] = np.array([o_n, ri, delta_agg, theta_agg, r_sqrd])\n",
    "            results_index += 1\n",
    "            \n",
    "np.savetxt(f\"../results/round2_results/logistic_obsnoise_vs_NS_Rate.csv\", results, fmt=\"%0.4f,%0.4f,%0.4f,%0.4f,%0.4f\")\n",
    "\n",
    "for i in range(4):\n",
    "    ax[i,0].set_ylabel(r\"{}% Obs Noise\".format([\"0\",\"10\",\"20\",\"30\"][i]), rotation=90,\n",
    "                     fontsize=12)\n",
    "for i in range(3):\n",
    "    ax[3,i].set_xlabel(r\"{}\".format(ns_status[i]), fontsize=12)\n",
    "plt.savefig(\"../PDF_figures_tables/example_series/Figure_S4.pdf\", format=\"pdf\", bbox_inches=\"tight\")"
   ]
  },
  {
   "cell_type": "code",
   "execution_count": null,
   "metadata": {},
   "outputs": [],
   "source": [
    "# Process Noise versus Nonstationarity Rate\n",
    "T = 200\n",
    "pro_list = (0.0, logistic_process_noise)\n",
    "r_list = (lambda t: 3.75, lambda t: 3.75 - 0.25 * t, lambda t: 3.75 - 0.75 * t)\n",
    "\n",
    "# process noise, nonstationarity status, delta, theta, r_sqrd\n",
    "results = np.zeros((N_replicates * len(pro_list) * len(r_list), 5))\n",
    "results_index = 0\n",
    "\n",
    "fig, ax = plt.subplots(2,3,figsize=(8,4), tight_layout=True)\n",
    "\n",
    "for pi, p_n in enumerate(pro_list):\n",
    "    for ri, r in enumerate(r_list):\n",
    "        for i in range(N_replicates):\n",
    "            x0 = rand.rand(1)\n",
    "            Xr = ns.standardize(ns.generateLogisticMapProcessNoise(\n",
    "                             process_noise = p_n, r=r, x0 = x0))\n",
    "        \n",
    "            if i == 0:\n",
    "                ax[pi, ri].plot(np.linspace(0,1,num=T), Xr)\n",
    "                ax[pi, ri].set_xticks([])\n",
    "                ax[pi, ri].set_yticks([])\n",
    "        \n",
    "            delta_agg, theta_agg, r_sqrd = ns.get_delta_agg(Xr, E_max, return_forecast_skill=True)\n",
    "            \n",
    "            results[results_index] = np.array([p_n, ri, delta_agg, theta_agg, r_sqrd])\n",
    "            results_index += 1\n",
    "            \n",
    "np.savetxt(f\"../results/round2_results/logistic_pronoise_vs_NS_Rate.csv\", results, fmt=\"%0.4f,%0.4f,%0.4f,%0.4f,%0.4f\")\n",
    "\n",
    "for i in range(2):\n",
    "    ax[i,0].set_ylabel(r\"{}% Process Noise\".format([\"0\", \"10\"][i]), rotation=90,\n",
    "                     fontsize=12)\n",
    "for i in range(3):\n",
    "    ax[1,i].set_xlabel(r\"{}\".format(ns_status[i]), fontsize=12)\n",
    "plt.savefig(\"../PDF_figures_tables/example_series/Figure_S5.pdf\", format=\"pdf\", bbox_inches=\"tight\")"
   ]
  },
  {
   "cell_type": "markdown",
   "metadata": {},
   "source": [
    "# Food Chain"
   ]
  },
  {
   "cell_type": "code",
   "execution_count": null,
   "metadata": {
    "scrolled": false
   },
   "outputs": [],
   "source": [
    "# Time Series Length versus Nonstationarity Rate\n",
    "T_list = (50, 100, 200)\n",
    "b1_list = (lambda t: 3, lambda t: 3 + 2 * t / end, lambda t: 3 + 4 * t / end)\n",
    "\n",
    "# Time Series Length, nonstationarity status, delta, theta, r_sqrd\n",
    "results = np.zeros((N_replicates * len(T_list) * len(b1_list), 5))\n",
    "results_index = 0\n",
    "\n",
    "fig, ax = plt.subplots(3,3,figsize=(8,6), tight_layout=True)\n",
    "\n",
    "for ti, T in enumerate(T_list):\n",
    "    end = T * 5\n",
    "    \n",
    "    for b1i, b1 in enumerate(b1_list):\n",
    "        for i in range(N_replicates):\n",
    "            \n",
    "            \n",
    "            x0 = np.array([0.1,0.4,9]) + rand.random(3)\n",
    "            Xr = ns.standardize(ns.generateTimeSeriesContinuous('FoodChainP',\n",
    "                                        x0, end=end, tlen = T, nsargs=(b1,), \n",
    "                                        reduction = reduction, settlingTime=settlingTime, \n",
    "                                        process_noise=0)[:,0,None])\n",
    "    \n",
    "            if i == 0:\n",
    "                ax[ti, b1i].plot(np.linspace(0,1,num=T), Xr)\n",
    "                ax[ti, b1i].set_xticks([])\n",
    "                ax[ti, b1i].set_yticks([])\n",
    "            \n",
    "            delta_agg, theta_agg, r_sqrd = ns.get_delta_agg(Xr, E_max, tau=tau, return_forecast_skill=True)\n",
    "            \n",
    "            results[results_index] = np.array([T, b1i, delta_agg, theta_agg, r_sqrd])\n",
    "            results_index += 1\n",
    "            \n",
    "np.savetxt(f\"../results/round2_results/food_chain_T_vs_NS_Rate.csv\", results, fmt=\"%0.4f,%0.4f,%0.4f,%0.4f,%0.4f\")\n",
    "\n",
    "for i in range(3):\n",
    "    ax[i,0].set_ylabel(r\"Series Len = {}\".format(T_list[i]), rotation=90,\n",
    "                     fontsize=12)\n",
    "    ax[2,i].set_xlabel(r\"{}\".format(ns_status[i]), fontsize=12)\n",
    "plt.savefig(\"../PDF_figures_tables/example_series/Figure_S6.pdf\", format=\"pdf\", bbox_inches=\"tight\")"
   ]
  },
  {
   "cell_type": "code",
   "execution_count": null,
   "metadata": {},
   "outputs": [],
   "source": [
    "# Observation Noise versus Nonstationarity Rate\n",
    "T = 200\n",
    "end = T * 5\n",
    "\n",
    "obs_list = (0.0,0.1,0.2,0.3)\n",
    "b1_list = (lambda t: 3, lambda t: 3 + 2 * t / end, lambda t: 3 + 4 * t / end)\n",
    "\n",
    "# log_std is calculated as the standard deviation on a stationary hastings powell map series with T=200 and b1=3\n",
    "log_std = 0.20682984252169215\n",
    "\n",
    "# observation noise, nonstationarity status, delta, theta, r_sqrd\n",
    "results = np.zeros((N_replicates * len(obs_list) * len(b1_list), 5))\n",
    "results_index = 0\n",
    "\n",
    "fig, ax = plt.subplots(4,3,figsize=(8,8), tight_layout=True)\n",
    "\n",
    "for oi, o_n in enumerate(obs_list):\n",
    "    for b1i, b1 in enumerate(b1_list):\n",
    "        for i in range(N_replicates):\n",
    "            x0 = np.array([0.1,0.4,9]) + rand.random(3)\n",
    "            Xr = ns.standardize(ns.generateTimeSeriesContinuous('FoodChainP', x0, end=end, tlen = T, nsargs=(b1,), \n",
    "                                              reduction = reduction, settlingTime=settlingTime, \n",
    "                                              process_noise=0)[:,0,None])\n",
    "            Xr += (rand.normal(0, o_n, T))[:,None]\n",
    "            \n",
    "            if i == 0:\n",
    "                ax[oi, b1i].plot(np.linspace(0,1,num=T), Xr)\n",
    "                ax[oi, b1i].set_xticks([])\n",
    "                ax[oi, b1i].set_yticks([])\n",
    "            \n",
    "            delta_agg, theta_agg, r_sqrd = ns.get_delta_agg(Xr, E_max, return_forecast_skill=True)\n",
    "            \n",
    "            results[results_index] = np.array([o_n, b1i, delta_agg, theta_agg, r_sqrd])\n",
    "            results_index += 1\n",
    "            \n",
    "np.savetxt(f\"../results/round2_results/food_chain_obsnoise_vs_NS_Rate.csv\", results, fmt=\"%0.4f,%0.4f,%0.4f,%0.4f,%0.4f\")\n",
    "\n",
    "for i in range(4):\n",
    "    ax[i,0].set_ylabel(r\"{}% Obs Noise\".format([0,10,20,30][i]), rotation=90,\n",
    "                     fontsize=12)\n",
    "for i in range(3):\n",
    "    ax[3,i].set_xlabel(r\"{}\".format(ns_status[i]), fontsize=12)\n",
    "plt.savefig(\"../PDF_figures_tables/example_series/Figure_S7.pdf\", format=\"pdf\", bbox_inches=\"tight\")"
   ]
  },
  {
   "cell_type": "code",
   "execution_count": null,
   "metadata": {},
   "outputs": [],
   "source": [
    "# Process Noise versus Nonstationarity Rate\n",
    "T = 200\n",
    "end = T * 5\n",
    "\n",
    "pro_list = (0.0, 0.017)\n",
    "b1_list = (lambda t: 3, lambda t: 3 + 2 * t / end, lambda t: 3 + 4 * t / end)\n",
    "\n",
    "fig, ax = plt.subplots(2,3,figsize=(8,4), tight_layout=True)\n",
    "\n",
    "# process noise, nonstationarity status, delta, theta, r_sqrd\n",
    "results = np.zeros((N_replicates * len(pro_list) * len(b1_list), 5))\n",
    "results_index = 0\n",
    "\n",
    "for pi, p_n in enumerate(pro_list):\n",
    "    for b1i, b1 in enumerate(b1_list):\n",
    "        for i in range(N_replicates):\n",
    "            x0 = np.array([0.1,0.4,9]) + rand.random(3)\n",
    "            Xr = ns.standardize(ns.generateTimeSeriesContinuous('FoodChainP', x0, end=end, tlen = T, nsargs=(b1,), \n",
    "                                              reduction = reduction, settlingTime=settlingTime, \n",
    "                                              process_noise=p_n)[:,0,None])\n",
    "            \n",
    "            if i == 0:\n",
    "                ax[pi, b1i].plot(np.linspace(0,1,num=T), Xr)\n",
    "                ax[pi, b1i].set_xticks([])\n",
    "                ax[pi, b1i].set_yticks([])\n",
    "            \n",
    "            delta_agg, theta_agg, r_sqrd = ns.get_delta_agg(Xr, E_max, return_forecast_skill=True)\n",
    "            \n",
    "            results[results_index] = np.array([p_n, b1i, delta_agg, theta_agg, r_sqrd])\n",
    "            results_index += 1\n",
    "            \n",
    "np.savetxt(f\"../results/round2_results/food_chain_pronoise_vs_NS_Rate.csv\", results, fmt=\"%0.4f,%0.4f,%0.4f,%0.4f,%0.4f\")\n",
    "\n",
    "for i in range(2):\n",
    "    ax[i,0].set_ylabel(r\"{}% Process Noise\".format([\"0\", \"10\"][i]), rotation=90,\n",
    "                     fontsize=12)\n",
    "for i in range(3):\n",
    "    ax[1,i].set_xlabel(r\"{}\".format(ns_status[i]), fontsize=12)\n",
    "\n",
    "plt.savefig(\"../PDF_figures_tables/example_series/Figure_S8.pdf\", format=\"pdf\", bbox_inches=\"tight\")"
   ]
  },
  {
   "cell_type": "markdown",
   "metadata": {},
   "source": [
    "# The figure\n",
    "This figure emulates the version found in the chaos paper, which encodes many dimensions as a grid of heatmaps."
   ]
  },
  {
   "cell_type": "code",
   "execution_count": 29,
   "metadata": {
    "scrolled": true
   },
   "outputs": [
    {
     "data": {
      "image/png": "[encoded data removed]",
      "text/plain": [
       "<Figure size 576x360 with 7 Axes>"
      ]
     },
     "metadata": {
      "needs_background": "light"
     },
     "output_type": "display_data"
    }
   ],
   "source": [
    "fig = plt.figure(tight_layout=True,figsize=(8,5))\n",
    "shrink = 0.8\n",
    "grid = gridspec.GridSpec(2,4, width_ratios=[3,4,2,0.4])\n",
    "nice_variable_names = [\"Time Series Length\", \"Observation Noise\",\"Process Noise\"]\n",
    "nice_model_names = [\"Logistic Map\", \"Food Chain\"]\n",
    "# fig, ax = plt.subplots(2,3)\n",
    "# plt.tight_layout()\n",
    "\n",
    "for i, model in enumerate([\"logistic\", \"food_chain\"]):\n",
    "    for j, variable in enumerate([\"T\",\"obsnoise\",\"pronoise\"]):\n",
    "        filename = f\"../results/round2_results/{model}_{variable}_vs_NS_Rate.csv\"\n",
    "        table = np.loadtxt(filename, delimiter=\",\")\n",
    "        \n",
    "        # observation noise, nonstationarity status, delta, theta, r_sqrd\n",
    "        variables = np.unique(table[:,0])\n",
    "        heatmap = np.zeros((3,len(variables)))\n",
    "\n",
    "        ax = fig.add_subplot(grid[i,j]) if j < 2 else fig.add_subplot(grid[i,2:3])\n",
    "        \n",
    "        for k, val in enumerate(variables):\n",
    "            for nsrate in range(3):\n",
    "                accuracy = np.mean(table[np.logical_and(table[:,0] == val,table[:,1] == nsrate),2] > 0.1)\n",
    "                accuracy = accuracy if nsrate else 1 - accuracy\n",
    "                heatmap[nsrate,k] = accuracy\n",
    "                ax.text(k,nsrate,f\"{accuracy:.2f}\",ha='center',va='center')\n",
    "        \n",
    "        aximage = ax.imshow(heatmap,vmin=0,vmax=1,cmap='summer')\n",
    "        left, right, _, _ = aximage.get_extent()\n",
    "        \n",
    "        ax.set_xticks(np.arange(len(variables)))\n",
    "        if j == 0:\n",
    "            ax.set_xticklabels(variables.astype(int))\n",
    "        elif j == 1:\n",
    "            ax.set_xticklabels(np.array([\"0%\",\"10%\",\"20%\",\"30%\"]))\n",
    "        else:\n",
    "            ax.set_xticklabels(np.array([\"0%\",\"10%\"]))\n",
    "        if model == \"food_chain\":\n",
    "            ax.set_xlabel(nice_variable_names[j])\n",
    "        ax.set_yticks(np.arange(3))\n",
    "        ax.set_yticklabels([\"none\",\"slow\",\"fast\"])\n",
    "        ax.set_ylim([-0.5,2.5])\n",
    "        \n",
    "        if (j == 0):\n",
    "            # ax.set_ylabel(nice_model_names[i], labelpad=25, fontsize=12)\n",
    "            ax.set_ylabel(nice_model_names[i], labelpad = 20, fontsize=14)\n",
    "            fig.text(-0.325, 0.5, \"Rate of Nonstationarity\", rotation=\"vertical\", transform=ax.transAxes,\n",
    "                              horizontalalignment=\"right\", verticalalignment=\"center\")\n",
    "            \n",
    "# fig.text(0.07,0.5375,\"Rate of Nonstationarity\", rotation=\"vertical\",\n",
    "#          horizontalalignment=\"center\", verticalalignment=\"center\", size=12 )\n",
    "# plt.tight_layout()\n",
    "# cax = plt.axes([0.905, 0.09, 0.02, 0.845])\n",
    "# fig.colorbar(aximage, cax = cax, label = \"Fraction Identified Correctly\")\n",
    "colorbar_ax = fig.add_subplot(grid[:,3])\n",
    "fig.colorbar(aximage, cax = colorbar_ax, \n",
    "             label = \"Fraction Identified Correctly\", \n",
    "             shrink=0.1, anchor=(1000,1))\n",
    "# plt.savefig(\"../Figures/round2.png\", dpi=300)\n",
    "plt.savefig(\"../PDF_figures_tables/round2_results/Figure_4.pdf\", format=\"pdf\", bbox_inches=\"tight\")"
   ]
  }
 ],
 "metadata": {
  "kernelspec": {
   "display_name": "Python 3",
   "language": "python",
   "name": "python3"
  },
  "language_info": {
   "codemirror_mode": {
    "name": "ipython",
    "version": 3
   },
   "file_extension": ".py",
   "mimetype": "text/x-python",
   "name": "python",
   "nbconvert_exporter": "python",
   "pygments_lexer": "ipython3",
   "version": "3.7.3"
  }
 },
 "nbformat": 4,
 "nbformat_minor": 2
}
